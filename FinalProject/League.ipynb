{
 "cells": [
  {
   "cell_type": "code",
   "execution_count": 2,
   "metadata": {
    "scrolled": false
   },
   "outputs": [],
   "source": [
    "from sklearn.model_selection import train_test_split\n",
    "from sklearn.ensemble import AdaBoostClassifier\n",
    "import pandas as pd\n",
    "import numpy as np"
   ]
  },
  {
   "cell_type": "markdown",
   "metadata": {},
   "source": [
    "# Train Test Split and Data Normalization"
   ]
  },
  {
   "cell_type": "markdown",
   "metadata": {},
   "source": [
    "The code below is ran once each iteration of testing to ensure randomness but not among tests for each hyperparameter only once all 3 tests are finished"
   ]
  },
  {
   "cell_type": "code",
   "execution_count": 5,
   "metadata": {},
   "outputs": [
    {
     "name": "stdout",
     "output_type": "stream",
     "text": [
      "          gameId  blueWins  blueWardsPlaced  blueWardsDestroyed  \\\n",
      "0     4519157822         0               28                   2   \n",
      "1     4523371949         0               12                   1   \n",
      "2     4521474530         0               15                   0   \n",
      "3     4524384067         0               43                   1   \n",
      "4     4436033771         0               75                   4   \n",
      "...          ...       ...              ...                 ...   \n",
      "9874  4527873286         1               17                   2   \n",
      "9875  4527797466         1               54                   0   \n",
      "9876  4527713716         0               23                   1   \n",
      "9877  4527628313         0               14                   4   \n",
      "9878  4523772935         1               18                   0   \n",
      "\n",
      "      blueFirstBlood  blueKills  blueDeaths  blueAssists  blueEliteMonsters  \\\n",
      "0                  1          9           6           11                  0   \n",
      "1                  0          5           5            5                  0   \n",
      "2                  0          7          11            4                  1   \n",
      "3                  0          4           5            5                  1   \n",
      "4                  0          6           6            6                  0   \n",
      "...              ...        ...         ...          ...                ...   \n",
      "9874               1          7           4            5                  1   \n",
      "9875               0          6           4            8                  1   \n",
      "9876               0          6           7            5                  0   \n",
      "9877               1          2           3            3                  1   \n",
      "9878               1          6           6            5                  0   \n",
      "\n",
      "      blueDragons  ...  redTowersDestroyed  redTotalGold  redAvgLevel  \\\n",
      "0               0  ...                   0         16567          6.8   \n",
      "1               0  ...                   1         17620          6.8   \n",
      "2               1  ...                   0         17285          6.8   \n",
      "3               0  ...                   0         16478          7.0   \n",
      "4               0  ...                   0         17404          7.0   \n",
      "...           ...  ...                 ...           ...          ...   \n",
      "9874            1  ...                   0         15246          6.8   \n",
      "9875            1  ...                   0         15456          7.0   \n",
      "9876            0  ...                   0         18319          7.4   \n",
      "9877            1  ...                   0         15298          7.2   \n",
      "9878            0  ...                   0         15339          6.8   \n",
      "\n",
      "      redTotalExperience  redTotalMinionsKilled  redTotalJungleMinionsKilled  \\\n",
      "0                  17047                    197                           55   \n",
      "1                  17438                    240                           52   \n",
      "2                  17254                    203                           28   \n",
      "3                  17961                    235                           47   \n",
      "4                  18313                    225                           67   \n",
      "...                  ...                    ...                          ...   \n",
      "9874               16498                    229                           34   \n",
      "9875               18367                    206                           56   \n",
      "9876               19909                    261                           60   \n",
      "9877               18314                    247                           40   \n",
      "9878               17379                    201                           46   \n",
      "\n",
      "      redGoldDiff  redExperienceDiff  redCSPerMin  redGoldPerMin  \n",
      "0            -643                  8         19.7         1656.7  \n",
      "1            2908               1173         24.0         1762.0  \n",
      "2            1172               1033         20.3         1728.5  \n",
      "3            1321                  7         23.5         1647.8  \n",
      "4            1004               -230         22.5         1740.4  \n",
      "...           ...                ...          ...            ...  \n",
      "9874        -2519              -2469         22.9         1524.6  \n",
      "9875         -782               -888         20.6         1545.6  \n",
      "9876         2416               1877         26.1         1831.9  \n",
      "9877          839               1085         24.7         1529.8  \n",
      "9878         -927                 58         20.1         1533.9  \n",
      "\n",
      "[9879 rows x 40 columns]\n"
     ]
    }
   ],
   "source": [
    "data = pd.read_csv('leaguedata.txt')\n",
    "print(data)\n",
    "for column in data.columns:\n",
    "    data[column] = data[column] / data[column].abs().max()\n",
    "\n",
    "#print(data)\n",
    "data = data.drop(\"gameId\", axis=1)\n",
    "X = data.drop(\"blueWins\", axis=1)\n",
    "y = data.pop(\"blueWins\")\n",
    "\n",
    "X_train, X_test, y_train, y_test = train_test_split(X,y,test_size=0.2)"
   ]
  },
  {
   "cell_type": "markdown",
   "metadata": {},
   "source": [
    "# Experimentation with different Learning Rates"
   ]
  },
  {
   "cell_type": "markdown",
   "metadata": {},
   "source": [
    "I run through iterations of learning rate ranging from 0.2 to 2 with increments of 0.2 to the learning rate"
   ]
  },
  {
   "cell_type": "code",
   "execution_count": 22,
   "metadata": {
    "scrolled": false
   },
   "outputs": [
    {
     "name": "stdout",
     "output_type": "stream",
     "text": [
      "accuracy with learning rate of  0.2 :  0.7307692307692307\n",
      "accuracy with learning rate of  0.4 :  0.728744939271255\n",
      "accuracy with learning rate of  0.6000000000000001 :  0.7257085020242915\n",
      "accuracy with learning rate of  0.8 :  0.7252024291497976\n",
      "accuracy with learning rate of  1.0 :  0.7262145748987854\n",
      "accuracy with learning rate of  1.2 :  0.7246963562753036\n",
      "accuracy with learning rate of  1.4 :  0.7186234817813765\n",
      "accuracy with learning rate of  1.5999999999999999 :  0.7090080971659919\n",
      "accuracy with learning rate of  1.7999999999999998 :  0.7246963562753036\n",
      "accuracy with learning rate of  1.9999999999999998 :  0.26720647773279355\n"
     ]
    }
   ],
   "source": [
    "j = 0.2\n",
    "while(j <= 2):\n",
    "    clf = AdaBoostClassifier(n_estimators=50, random_state=0,learning_rate=j)\n",
    "    clf.fit(X_train,y_train)\n",
    "    print(\"accuracy with learning rate of \",j,\": \",clf.score(X_test, y_test))\n",
    "    j+=0.2"
   ]
  },
  {
   "cell_type": "markdown",
   "metadata": {},
   "source": [
    "# Experimentation with different Numbers of Estimators"
   ]
  },
  {
   "cell_type": "markdown",
   "metadata": {},
   "source": [
    "Same process as learning rate above with a range of 50-500 estimators"
   ]
  },
  {
   "cell_type": "code",
   "execution_count": 23,
   "metadata": {
    "scrolled": true
   },
   "outputs": [
    {
     "name": "stdout",
     "output_type": "stream",
     "text": [
      "accuracy with  50  estimators:  0.7262145748987854\n",
      "accuracy with  100  estimators:  0.7196356275303644\n",
      "accuracy with  150  estimators:  0.7171052631578947\n",
      "accuracy with  200  estimators:  0.7165991902834008\n",
      "accuracy with  250  estimators:  0.72165991902834\n",
      "accuracy with  300  estimators:  0.7115384615384616\n",
      "accuracy with  350  estimators:  0.7100202429149798\n",
      "accuracy with  400  estimators:  0.7140688259109311\n",
      "accuracy with  450  estimators:  0.7130566801619433\n",
      "accuracy with  500  estimators:  0.7140688259109311\n"
     ]
    }
   ],
   "source": [
    "j = 50\n",
    "while(j <= 500):\n",
    "    clf = AdaBoostClassifier(n_estimators=j, random_state=0,learning_rate=1)\n",
    "    clf.fit(X_train,y_train)\n",
    "    print(\"accuracy with \",j,\" estimators: \",clf.score(X_test, y_test))\n",
    "    j+=50"
   ]
  },
  {
   "cell_type": "markdown",
   "metadata": {},
   "source": [
    "# Determing in the interaction between Estimators and Learning Rate"
   ]
  },
  {
   "cell_type": "markdown",
   "metadata": {},
   "source": [
    "Combine the processes above to see how the two hyperparameters interact with eachother as they decrease or increase just with a decreased scale of estimators 50-250 and learning rate 0.5-2 for decreased testing time"
   ]
  },
  {
   "cell_type": "code",
   "execution_count": 24,
   "metadata": {},
   "outputs": [
    {
     "name": "stdout",
     "output_type": "stream",
     "text": [
      "accuracy with  50  estimators and a learning rate of  0.5 :  0.7282388663967612\n",
      "accuracy with  50  estimators and a learning rate of  1.0 :  0.7262145748987854\n",
      "accuracy with  50  estimators and a learning rate of  1.5 :  0.715080971659919\n",
      "accuracy with  50  estimators and a learning rate of  2.0 :  0.26720647773279355\n",
      "\n",
      "\n",
      "accuracy with  100  estimators and a learning rate of  0.5 :  0.7302631578947368\n",
      "accuracy with  100  estimators and a learning rate of  1.0 :  0.7196356275303644\n",
      "accuracy with  100  estimators and a learning rate of  1.5 :  0.7105263157894737\n",
      "accuracy with  100  estimators and a learning rate of  2.0 :  0.26720647773279355\n",
      "\n",
      "\n",
      "accuracy with  150  estimators and a learning rate of  0.5 :  0.7267206477732794\n",
      "accuracy with  150  estimators and a learning rate of  1.0 :  0.7171052631578947\n",
      "accuracy with  150  estimators and a learning rate of  1.5 :  0.7110323886639676\n",
      "accuracy with  150  estimators and a learning rate of  2.0 :  0.26720647773279355\n",
      "\n",
      "\n",
      "accuracy with  200  estimators and a learning rate of  0.5 :  0.729251012145749\n",
      "accuracy with  200  estimators and a learning rate of  1.0 :  0.7165991902834008\n",
      "accuracy with  200  estimators and a learning rate of  1.5 :  0.7095141700404858\n",
      "accuracy with  200  estimators and a learning rate of  2.0 :  0.26720647773279355\n",
      "\n",
      "\n",
      "accuracy with  250  estimators and a learning rate of  0.5 :  0.7302631578947368\n",
      "accuracy with  250  estimators and a learning rate of  1.0 :  0.72165991902834\n",
      "accuracy with  250  estimators and a learning rate of  1.5 :  0.7019230769230769\n",
      "accuracy with  250  estimators and a learning rate of  2.0 :  0.26720647773279355\n",
      "\n",
      "\n"
     ]
    }
   ],
   "source": [
    "i = 50\n",
    "while(i <= 250):\n",
    "    j = 0.5\n",
    "    while(j <= 2):\n",
    "        clf = AdaBoostClassifier(n_estimators=i, random_state=0,learning_rate=j)\n",
    "        clf.fit(X_train,y_train)\n",
    "        print(\"accuracy with \",i,\" estimators and a learning rate of \",j,\": \",clf.score(X_test, y_test))\n",
    "        j+=0.5\n",
    "    print(\"\\n\")\n",
    "    i+=50"
   ]
  },
  {
   "cell_type": "markdown",
   "metadata": {},
   "source": [
    "# Determining Interaction between Algorithm and Number of Estimators"
   ]
  },
  {
   "cell_type": "code",
   "execution_count": 11,
   "metadata": {},
   "outputs": [
    {
     "name": "stdout",
     "output_type": "stream",
     "text": [
      "0.736336032388664\n",
      "0.7358299595141701\n",
      "\n",
      "\n",
      "0.7419028340080972\n",
      "0.7383603238866396\n",
      "\n",
      "\n",
      "0.7419028340080972\n",
      "0.728744939271255\n",
      "\n",
      "\n",
      "0.7444331983805668\n",
      "0.7332995951417004\n",
      "\n",
      "\n",
      "0.7444331983805668\n",
      "0.7312753036437247\n",
      "\n",
      "\n",
      "0.7439271255060729\n",
      "0.7262145748987854\n",
      "\n",
      "\n",
      "0.742914979757085\n",
      "0.728744939271255\n",
      "\n",
      "\n",
      "0.742914979757085\n",
      "0.728744939271255\n",
      "\n",
      "\n",
      "0.7419028340080972\n",
      "0.7307692307692307\n",
      "\n",
      "\n",
      "0.7424089068825911\n",
      "0.7307692307692307\n",
      "\n",
      "\n"
     ]
    }
   ],
   "source": [
    "algorithms = [\"SAMME\",\"SAMME.R\"]\n",
    "i = 50\n",
    "while(i <= 500):\n",
    "    j = 0\n",
    "    while(j <= 1):\n",
    "        clf = AdaBoostClassifier(n_estimators=i, random_state=0,learning_rate=1,algorithm=algorithms[j])\n",
    "        clf.fit(X_train,y_train)\n",
    "        print(clf.score(X_test, y_test))\n",
    "        j+=1\n",
    "    print(\"\\n\")\n",
    "    i+=50"
   ]
  },
  {
   "cell_type": "markdown",
   "metadata": {},
   "source": [
    "# Determining the Interaction between Algorithm and Learning Rate"
   ]
  },
  {
   "cell_type": "code",
   "execution_count": 12,
   "metadata": {},
   "outputs": [
    {
     "name": "stdout",
     "output_type": "stream",
     "text": [
      "0.7408906882591093\n",
      "0.7489878542510121\n",
      "\n",
      "\n",
      "0.736336032388664\n",
      "0.743421052631579\n",
      "\n",
      "\n",
      "0.7353238866396761\n",
      "0.7388663967611336\n",
      "\n",
      "\n",
      "0.7398785425101214\n",
      "0.7383603238866396\n",
      "\n",
      "\n",
      "0.736336032388664\n",
      "0.7358299595141701\n",
      "\n",
      "\n",
      "0.7439271255060729\n",
      "0.7373481781376519\n",
      "\n",
      "\n",
      "0.7403846153846154\n",
      "0.7383603238866396\n",
      "\n",
      "\n",
      "0.7444331983805668\n",
      "0.736336032388664\n",
      "\n",
      "\n",
      "0.7378542510121457\n",
      "0.7408906882591093\n",
      "\n",
      "\n",
      "0.2667004048582996\n",
      "0.26568825910931176\n",
      "\n",
      "\n"
     ]
    }
   ],
   "source": [
    "algorithms = [\"SAMME\",\"SAMME.R\"]\n",
    "i = 0.2\n",
    "while(i <= 2):\n",
    "    j = 0\n",
    "    while(j <= 1):\n",
    "        clf = AdaBoostClassifier(n_estimators=50, random_state=0,learning_rate=i,algorithm=algorithms[j])\n",
    "        clf.fit(X_train,y_train)\n",
    "        print(clf.score(X_test, y_test))\n",
    "        j+=1\n",
    "    print(\"\\n\")\n",
    "    i+=0.2"
   ]
  },
  {
   "cell_type": "code",
   "execution_count": null,
   "metadata": {},
   "outputs": [],
   "source": []
  }
 ],
 "metadata": {
  "kernelspec": {
   "display_name": "Python 3",
   "language": "python",
   "name": "python3"
  },
  "language_info": {
   "codemirror_mode": {
    "name": "ipython",
    "version": 3
   },
   "file_extension": ".py",
   "mimetype": "text/x-python",
   "name": "python",
   "nbconvert_exporter": "python",
   "pygments_lexer": "ipython3",
   "version": "3.8.5"
  }
 },
 "nbformat": 4,
 "nbformat_minor": 5
}
