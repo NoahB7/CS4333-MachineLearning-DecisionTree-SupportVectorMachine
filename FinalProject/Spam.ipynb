{
 "cells": [
  {
   "cell_type": "code",
   "execution_count": 2,
   "metadata": {},
   "outputs": [],
   "source": [
    "from sklearn.model_selection import train_test_split\n",
    "from sklearn.ensemble import AdaBoostClassifier\n",
    "import pandas as pd\n",
    "import numpy as np"
   ]
  },
  {
   "cell_type": "markdown",
   "metadata": {},
   "source": [
    "# Train Test Split and Data Normalization"
   ]
  },
  {
   "cell_type": "markdown",
   "metadata": {},
   "source": [
    "The code below is ran once each iteration of testing to ensure randomness but not among tests for each hyperparameter only once all 3 tests are finished"
   ]
  },
  {
   "cell_type": "code",
   "execution_count": 23,
   "metadata": {},
   "outputs": [],
   "source": [
    "data = pd.read_csv('spamdata.txt')\n",
    "\n",
    "for column in data.columns:\n",
    "    data[column] = data[column] /data[column].abs().max()\n",
    "    \n",
    "X = data.drop(\"class\", axis=1)\n",
    "y = data.pop(\"class\")\n",
    "\n",
    "X_train, X_test, y_train, y_test = train_test_split(X,y,test_size=0.2)"
   ]
  },
  {
   "cell_type": "markdown",
   "metadata": {},
   "source": [
    "# Experimentation with different Learning Rates"
   ]
  },
  {
   "cell_type": "markdown",
   "metadata": {},
   "source": [
    "I run through iterations of learning rate ranging from 0.2 to 2 with increments of 0.2 to the learning rate"
   ]
  },
  {
   "cell_type": "code",
   "execution_count": 3,
   "metadata": {},
   "outputs": [
    {
     "name": "stdout",
     "output_type": "stream",
     "text": [
      "accuracy with learning rate of  0.2 :  0.9467969598262758\n",
      "accuracy with learning rate of  0.4 :  0.9500542888165038\n",
      "accuracy with learning rate of  0.6000000000000001 :  0.9554831704668838\n",
      "accuracy with learning rate of  0.8 :  0.9489685124864278\n",
      "accuracy with learning rate of  1.0 :  0.9511400651465798\n",
      "accuracy with learning rate of  1.2 :  0.9500542888165038\n",
      "accuracy with learning rate of  1.4 :  0.9315960912052117\n",
      "accuracy with learning rate of  1.5999999999999999 :  0.9315960912052117\n",
      "accuracy with learning rate of  1.7999999999999998 :  0.9272529858849077\n",
      "accuracy with learning rate of  1.9999999999999998 :  0.8067318132464713\n"
     ]
    }
   ],
   "source": [
    "j = 0.2\n",
    "while(j <= 2):\n",
    "    clf = AdaBoostClassifier(n_estimators=50, random_state=0,learning_rate=j)\n",
    "    clf.fit(X_train,y_train)\n",
    "    print(\"accuracy with learning rate of \",j,\": \",clf.score(X_test, y_test))\n",
    "    j+=0.2"
   ]
  },
  {
   "cell_type": "markdown",
   "metadata": {},
   "source": [
    "# Experimentation with different Numbers of Estimators"
   ]
  },
  {
   "cell_type": "markdown",
   "metadata": {},
   "source": [
    "Same process as learning rate above with a range of 50-500 estimators"
   ]
  },
  {
   "cell_type": "code",
   "execution_count": 4,
   "metadata": {},
   "outputs": [
    {
     "name": "stdout",
     "output_type": "stream",
     "text": [
      "accuracy with  50  estimators:  0.9511400651465798\n",
      "accuracy with  100  estimators:  0.9457111834961998\n",
      "accuracy with  150  estimators:  0.9489685124864278\n",
      "accuracy with  200  estimators:  0.9511400651465798\n",
      "accuracy with  250  estimators:  0.9478827361563518\n",
      "accuracy with  300  estimators:  0.9511400651465798\n",
      "accuracy with  350  estimators:  0.9478827361563518\n",
      "accuracy with  400  estimators:  0.9489685124864278\n",
      "accuracy with  450  estimators:  0.9522258414766558\n",
      "accuracy with  500  estimators:  0.9489685124864278\n"
     ]
    }
   ],
   "source": [
    "j = 50\n",
    "while(j <= 500):\n",
    "    clf = AdaBoostClassifier(n_estimators=j, random_state=0,learning_rate=1)\n",
    "    clf.fit(X_train,y_train)\n",
    "    print(\"accuracy with \",j,\" estimators: \",clf.score(X_test, y_test))\n",
    "    j+=50"
   ]
  },
  {
   "cell_type": "markdown",
   "metadata": {},
   "source": [
    "# Determing in the interaction between Estimators and Learning Rate"
   ]
  },
  {
   "cell_type": "markdown",
   "metadata": {},
   "source": [
    "Combine the processes above to see how the two hyperparameters interact with eachother as they decrease or increase just with a decreased scale of estimators 50-250 and learning rate 0.5-2 for decreased testing time"
   ]
  },
  {
   "cell_type": "code",
   "execution_count": 5,
   "metadata": {},
   "outputs": [
    {
     "name": "stdout",
     "output_type": "stream",
     "text": [
      "accuracy with  50  estimators and a learning rate of  0.5 :  0.9500542888165038\n",
      "accuracy with  50  estimators and a learning rate of  1.0 :  0.9511400651465798\n",
      "accuracy with  50  estimators and a learning rate of  1.5 :  0.9402823018458197\n",
      "accuracy with  50  estimators and a learning rate of  2.0 :  0.6145494028230185\n",
      "\n",
      "\n",
      "accuracy with  100  estimators and a learning rate of  0.5 :  0.9467969598262758\n",
      "accuracy with  100  estimators and a learning rate of  1.0 :  0.9457111834961998\n",
      "accuracy with  100  estimators and a learning rate of  1.5 :  0.9305103148751357\n",
      "accuracy with  100  estimators and a learning rate of  2.0 :  0.6145494028230185\n",
      "\n",
      "\n",
      "accuracy with  150  estimators and a learning rate of  0.5 :  0.9489685124864278\n",
      "accuracy with  150  estimators and a learning rate of  1.0 :  0.9489685124864278\n",
      "accuracy with  150  estimators and a learning rate of  1.5 :  0.9315960912052117\n",
      "accuracy with  150  estimators and a learning rate of  2.0 :  0.6145494028230185\n",
      "\n",
      "\n",
      "accuracy with  200  estimators and a learning rate of  0.5 :  0.9500542888165038\n",
      "accuracy with  200  estimators and a learning rate of  1.0 :  0.9511400651465798\n",
      "accuracy with  200  estimators and a learning rate of  1.5 :  0.9424538545059717\n",
      "accuracy with  200  estimators and a learning rate of  2.0 :  0.6145494028230185\n",
      "\n",
      "\n",
      "accuracy with  250  estimators and a learning rate of  0.5 :  0.9500542888165038\n",
      "accuracy with  250  estimators and a learning rate of  1.0 :  0.9478827361563518\n",
      "accuracy with  250  estimators and a learning rate of  1.5 :  0.9370249728555917\n",
      "accuracy with  250  estimators and a learning rate of  2.0 :  0.6145494028230185\n",
      "\n",
      "\n"
     ]
    }
   ],
   "source": [
    "i = 50\n",
    "while(i <= 250):\n",
    "    j = 0.5\n",
    "    while(j <= 2):\n",
    "        clf = AdaBoostClassifier(n_estimators=i, random_state=0,learning_rate=j)\n",
    "        clf.fit(X_train,y_train)\n",
    "        print(\"accuracy with \",i,\" estimators and a learning rate of \",j,\": \",clf.score(X_test, y_test))\n",
    "        j+=0.5\n",
    "    print(\"\\n\")\n",
    "    i+=50"
   ]
  },
  {
   "cell_type": "markdown",
   "metadata": {},
   "source": [
    "# Determining Interaction between Algorithm and Number of Estimators"
   ]
  },
  {
   "cell_type": "code",
   "execution_count": 24,
   "metadata": {},
   "outputs": [
    {
     "name": "stdout",
     "output_type": "stream",
     "text": [
      "0.9370249728555917\n",
      "0.9424538545059717\n",
      "\n",
      "\n",
      "0.9446254071661238\n",
      "0.9402823018458197\n",
      "\n",
      "\n",
      "0.9478827361563518\n",
      "0.9413680781758957\n",
      "\n",
      "\n",
      "0.9457111834961998\n",
      "0.9359391965255157\n",
      "\n",
      "\n",
      "0.9467969598262758\n",
      "0.9359391965255157\n",
      "\n",
      "\n",
      "0.9457111834961998\n",
      "0.9381107491856677\n",
      "\n",
      "\n",
      "0.9478827361563518\n",
      "0.9381107491856677\n",
      "\n",
      "\n",
      "0.9489685124864278\n",
      "0.9337676438653637\n",
      "\n",
      "\n",
      "0.9489685124864278\n",
      "0.9326818675352877\n",
      "\n",
      "\n",
      "0.9478827361563518\n",
      "0.9348534201954397\n",
      "\n",
      "\n"
     ]
    }
   ],
   "source": [
    "algorithms = [\"SAMME\",\"SAMME.R\"]\n",
    "i = 50\n",
    "while(i <= 500):\n",
    "    j = 0\n",
    "    while(j <= 1):\n",
    "        clf = AdaBoostClassifier(n_estimators=i, random_state=0,learning_rate=1,algorithm=algorithms[j])\n",
    "        clf.fit(X_train,y_train)\n",
    "        print(clf.score(X_test, y_test))\n",
    "        j+=1\n",
    "    print(\"\\n\")\n",
    "    i+=50"
   ]
  },
  {
   "cell_type": "markdown",
   "metadata": {},
   "source": [
    "# Determining the Interaction between Algorithm and Learning Rate"
   ]
  },
  {
   "cell_type": "code",
   "execution_count": 25,
   "metadata": {},
   "outputs": [
    {
     "name": "stdout",
     "output_type": "stream",
     "text": [
      "0.9326818675352877\n",
      "0.9402823018458197\n",
      "\n",
      "\n",
      "0.9315960912052117\n",
      "0.9446254071661238\n",
      "\n",
      "\n",
      "0.9337676438653637\n",
      "0.9446254071661238\n",
      "\n",
      "\n",
      "0.9424538545059717\n",
      "0.9435396308360477\n",
      "\n",
      "\n",
      "0.9370249728555917\n",
      "0.9424538545059717\n",
      "\n",
      "\n",
      "0.9402823018458197\n",
      "0.9261672095548317\n",
      "\n",
      "\n",
      "0.9391965255157437\n",
      "0.9294245385450597\n",
      "\n",
      "\n",
      "0.9402823018458197\n",
      "0.9196525515743756\n",
      "\n",
      "\n",
      "0.9315960912052117\n",
      "0.9185667752442996\n",
      "\n",
      "\n",
      "0.6330076004343105\n",
      "0.2258414766558089\n",
      "\n",
      "\n"
     ]
    }
   ],
   "source": [
    "algorithms = [\"SAMME\",\"SAMME.R\"]\n",
    "i = 0.2\n",
    "while(i <= 2):\n",
    "    j = 0\n",
    "    while(j <= 1):\n",
    "        clf = AdaBoostClassifier(n_estimators=50, random_state=0,learning_rate=i,algorithm=algorithms[j])\n",
    "        clf.fit(X_train,y_train)\n",
    "        print(clf.score(X_test, y_test))\n",
    "        j+=1\n",
    "    print(\"\\n\")\n",
    "    i+=0.2"
   ]
  },
  {
   "cell_type": "code",
   "execution_count": null,
   "metadata": {},
   "outputs": [],
   "source": []
  }
 ],
 "metadata": {
  "kernelspec": {
   "display_name": "Python 3",
   "language": "python",
   "name": "python3"
  },
  "language_info": {
   "codemirror_mode": {
    "name": "ipython",
    "version": 3
   },
   "file_extension": ".py",
   "mimetype": "text/x-python",
   "name": "python",
   "nbconvert_exporter": "python",
   "pygments_lexer": "ipython3",
   "version": "3.8.5"
  }
 },
 "nbformat": 4,
 "nbformat_minor": 5
}
